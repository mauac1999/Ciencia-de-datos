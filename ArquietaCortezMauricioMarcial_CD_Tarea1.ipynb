{
 "cells": [
  {
   "cell_type": "markdown",
   "id": "5460c487",
   "metadata": {},
   "source": [
    "## Tarea 1: Repaso de los conceptos básicos de Python\n",
    "### Ciencia de datos para físicos: Facultad de ciencias, UNAM\n",
    "#### Profesores: Karen Rubí Jiménez-López, Pedro Arturo Flores-Silva\n",
    "\n",
    "**Instrucciones:** Este notebook contiene una serie de ejercicios que deben ser resueltos. Cada ejercicio se encuentra en una celda, ya sea de código o Markdown. Debes crear una o dos *celdas debajo de cada ejercicio* con tu(s) respectiva(s) respuestas. No modifiques las celdas originales.\n",
    "\n",
    "Recuerda que para ejecutar el código de una celda, presionar `Ctlr + Enter` o bien el boton de `play` en el editor Jupyter notebook.\n",
    "\n",
    "Cada ejercicio tendrá diferente valor, y se indicará en la celda de éste. La calificación final será la suma de los puntos obtenidos en cada ejercicio. Se calificará considerando la calidad de la respuesta, la claridad de la explicación y la correctitud del código. Por ejemplo, si el código no ejecuta la respuesta correcta pero se da una idea textual, se demuestra que hay comprensión del problema y el código hace sentido para el revisor, se otorgará una calificación parcial. Esto es, las respuestas no solo se evaluarán como bien o mal, sino que se considerará el esfuerzo.\n",
    "\n",
    "El codigo que realices debes comentarlo donde creas necesario, no vale no hacer ningún comentario. Recuerda que los comentarios son importantes para que el código sea legible y entendible, éstos se agregan con el símbolo #. Para las funciones y/o clases que crees, agrega la documentación correspondiente (docstring), éste se agrega con `\"\"\" docstring \"\"\"`."
   ]
  },
  {
   "cell_type": "markdown",
   "id": "365ad2b0",
   "metadata": {},
   "source": [
    "Tarea 1:\n",
    "Arquieta Cortez Mauricio Marcial"
   ]
  },
  {
   "cell_type": "markdown",
   "id": "66df713a",
   "metadata": {},
   "source": [
    "### Ejercicio 1 (1 punto):\n",
    "En una celda Markdown contesta: \n",
    "* ¿Qué es una palabra reservada en python? Enlista 5 ejemplos de nombres reservados en python y describe su función.\n",
    "* Coloca tres ejemplos de nombres de variables que no son válidos en python. Explica por qué no son válidos."
   ]
  },
  {
   "cell_type": "markdown",
   "id": "af9aa642",
   "metadata": {},
   "source": [
    "Una palabra reservada, son palabras que usa el lenguaje de programación para recurrir a una acción ya programada en el lenguaje maquina. Estas palabras no pueden ser usadas como variables, funciones, clases, etc. Los 5 ejemplos son:\n",
    "1. \"if\": se utiliza para definir una estructura de control condicional en el código.\n",
    "2. \"while\": se utiliza para definir un bucle de control mientras se cumple una condición.\n",
    "3. \"for\": se utiliza para definir un bucle de control que recorre una secuencia de elementos.\n",
    "4. \"def\": se utiliza para definir una función en el código.\n",
    "5. \"class\": se utiliza para definir una clase en el código."
   ]
  },
  {
   "cell_type": "markdown",
   "id": "7ef3cb83",
   "metadata": {},
   "source": [
    "Al nombrar variables en Python debemos seguir reglas, como comenzar con una letra o guión bajo, no contener espacios y no utilizar palabras reservadas. Los 3 ejemplos son:\n",
    "1. \"3edad\": este nombre de variable no es válido en Python porque comienza con un número.\n",
    "2. \"if\": este nombre de variable no es válido en Python porque es una palabra reservada.\n",
    "3. \"mi variable\": este nombre de variable no es válido en Python porque contiene un espacio."
   ]
  },
  {
   "cell_type": "markdown",
   "id": "8f4fd89b",
   "metadata": {},
   "source": [
    "### Ejercicio 2 (1 punto):\n",
    "\n",
    "En una celda de código, escribe una función que encuentre las raíces de cualquier polinomio de segundo grado (implementar la chicharronera). En una celda markdown detalla posibles casos en la cual la función podría fallar.\n",
    "Usa dicha función para encontrar las raíces del polinomio $f(x) = 10x^2 - 2x$ e imprimelas en pantalla."
   ]
  },
  {
   "cell_type": "code",
   "execution_count": 330,
   "id": "5d99fdc9",
   "metadata": {},
   "outputs": [],
   "source": [
    "import numpy as np\n",
    "def raicesgrado2(a, b, c): #El programa va a recibir los coeficientes del polinomio ax^2+bx+c\n",
    "    if (b**2-4*a*c)<0:\n",
    "        x1 = (-b+(b**2-4*a*c)**(1/2))/(2*a) \n",
    "        x2 = (-b-(b**2-4*a*c)**(1/2))/(2*a)\n",
    "        print(\"Las raices estan contenidas en el espacio complejo y son \", x1,x2)  \n",
    "\n",
    "    if (b**2-4*a*c)>=0:\n",
    "        x1 = (-b+(b**2-4*a*c)**(1/2))/(2*a) \n",
    "        x2 = (-b-(b**2-4*a*c)**(1/2))/(2*a)\n",
    "        print(\"Las raices son \", round(x1,3),round(x2,3))  "
   ]
  },
  {
   "cell_type": "code",
   "execution_count": 332,
   "id": "6379ae71",
   "metadata": {},
   "outputs": [
    {
     "name": "stdout",
     "output_type": "stream",
     "text": [
      "Las raices son  0.01 9.081\n"
     ]
    }
   ],
   "source": [
    "raicesgrado2(-11,100,-1)"
   ]
  },
  {
   "cell_type": "markdown",
   "id": "7610c62b",
   "metadata": {},
   "source": [
    "### Ejercicio 3 (1 punto):\n",
    "\n",
    "*Caida libre*: El gran Galileo Galilei subió la torre de Pisa para determinar el tiempo que tarda un objeto en caer desde una altura $H$ al suelo. Para ello, colocó un objeto de masa $m=100$ kg en la torre y lo dejó caer. El tiempo que tardó en caer fue $t=0.05616667$ minutos.\n",
    "\n",
    "Considerando que la aceleración de la gravedad es $g=9.8$ $\\frac{m}{s^2}$, escribe un programa que determine la altura de la torre de Pisa. El programa debe imprimir la altura en la pantalla.\n",
    "\n",
    "Recuerda que el movimiento de caída libre simplificado cumple la ecuación: $y(t) = H + vt - \\frac{1}{2}gt^2$."
   ]
  },
  {
   "cell_type": "code",
   "execution_count": 130,
   "id": "44ae1943",
   "metadata": {},
   "outputs": [
    {
     "name": "stdout",
     "output_type": "stream",
     "text": [
      "El tiempo en segundos es 3.370 segundos\n",
      "La altura es 55.65 metros\n"
     ]
    }
   ],
   "source": [
    "m = 100\n",
    "g = 9.8\n",
    "t = 0.05616667\n",
    "ts = t*60 #conversión de tiempo de minutos a segundos\n",
    "vf = -g*ts\n",
    "F = -m*g\n",
    "#y_0 = H y y_f = 0 entonces H = 1/2gt^2-vt pero v = 0, H = 1/2gt^2\n",
    "H = 1/2*g*(ts**2)\n",
    "print(f\"El tiempo en segundos es {ts:.3f} segundos\")\n",
    "print(f\"La altura es {round(H,2)} metros\")"
   ]
  },
  {
   "cell_type": "markdown",
   "id": "bf2d28e7",
   "metadata": {},
   "source": [
    "### Ejercicio 4 (1 punto):\n",
    "Crea una lista de números enteros del 0 al 99 : `lista = [0,1, 2, 3, 4, ... , 95, 96, 97, 98, 99]` (6 puntos menos si creas la lista manualmente).\n",
    " \n",
    "Escribe un programa que imprima en la pantalla una la lista que cumpla con las siguientes condiciones:\n",
    "* Los ultimos 10 elementos: debe imprimir lo siguiente `[90, 91, 92, 93, 94, 95, 96, 97, 98, 99]`.\n",
    "* Los primeros 11 elementos: debe imprimir lo siguiente `[0, 1, 2, 3, 4, 5, 6, 7, 8, 9, 10]`.\n",
    "* La serie de elementos de la lista que están entre 60 y 75: debe imprimir lo siguiente `[60, 61, 62, 63, 64, 65, 66, 67, 68, 69, 70, 71, 72, 73, 74, 75]`.\n",
    "* El número 50: debe imprimir lo siguiente `50`.\n",
    "\n",
    "Debes aplicar el concepto de *slicing* para resolver este ejercicio (notación de puntos `[:]`).\n",
    "\n",
    "Puntos menos si se crean listas nuevas para cada caso y/o se seleccionan manualmente los valores."
   ]
  },
  {
   "cell_type": "code",
   "execution_count": 119,
   "id": "097e707d",
   "metadata": {},
   "outputs": [
    {
     "name": "stdout",
     "output_type": "stream",
     "text": [
      "[[90, 91, 92, 93, 94, 95, 96, 97, 98], [0, 1, 2, 3, 4, 5, 6, 7, 8, 9, 10], [60, 61, 62, 63, 64, 65, 66, 67, 68, 69, 70, 71, 72, 73, 74, 75], 50]\n"
     ]
    }
   ],
   "source": [
    "ls = []\n",
    "for i in range(0,100):\n",
    "    ls.append(i)\n",
    "\n",
    "\n",
    "lp = [ls[-10:-1], ls[0:11], ls[60:76], ls[50]]\n",
    "print(lp)"
   ]
  },
  {
   "cell_type": "markdown",
   "id": "ac5b94d8",
   "metadata": {},
   "source": [
    "### Ejercicio 5 (1 punto):\n",
    "Crea una lista de números enteros del 0 al 1000. A partir de dicha lista:\n",
    "* Guarda en una variable una lista con los números pares usando ciclos y condicionales. Imprime los últimos 10 elementos de la lista final.\n",
    "* Guarda en una variable una lista con los números impares usando listas comprensivas (comprehension list). Imprime los primeros 10 elementos de la lista final."
   ]
  },
  {
   "cell_type": "code",
   "execution_count": 334,
   "id": "5c27d666",
   "metadata": {},
   "outputs": [
    {
     "name": "stdout",
     "output_type": "stream",
     "text": [
      "[0, 1, 2, 3, 4, 5, 6, 7, 8, 9, 10, 11, 12, 13, 14, 15, 16, 17, 18, 19, 20, 21, 22, 23, 24, 25, 26, 27, 28, 29, 30, 31, 32, 33, 34, 35, 36, 37, 38, 39, 40, 41, 42, 43, 44, 45, 46, 47, 48, 49, 50, 51, 52, 53, 54, 55, 56, 57, 58, 59, 60, 61, 62, 63, 64, 65, 66, 67, 68, 69, 70, 71, 72, 73, 74, 75, 76, 77, 78, 79, 80, 81, 82, 83, 84, 85, 86, 87, 88, 89, 90, 91, 92, 93, 94, 95, 96, 97, 98, 99, 100, 101, 102, 103, 104, 105, 106, 107, 108, 109, 110, 111, 112, 113, 114, 115, 116, 117, 118, 119, 120, 121, 122, 123, 124, 125, 126, 127, 128, 129, 130, 131, 132, 133, 134, 135, 136, 137, 138, 139, 140, 141, 142, 143, 144, 145, 146, 147, 148, 149, 150, 151, 152, 153, 154, 155, 156, 157, 158, 159, 160, 161, 162, 163, 164, 165, 166, 167, 168, 169, 170, 171, 172, 173, 174, 175, 176, 177, 178, 179, 180, 181, 182, 183, 184, 185, 186, 187, 188, 189, 190, 191, 192, 193, 194, 195, 196, 197, 198, 199, 200, 201, 202, 203, 204, 205, 206, 207, 208, 209, 210, 211, 212, 213, 214, 215, 216, 217, 218, 219, 220, 221, 222, 223, 224, 225, 226, 227, 228, 229, 230, 231, 232, 233, 234, 235, 236, 237, 238, 239, 240, 241, 242, 243, 244, 245, 246, 247, 248, 249, 250, 251, 252, 253, 254, 255, 256, 257, 258, 259, 260, 261, 262, 263, 264, 265, 266, 267, 268, 269, 270, 271, 272, 273, 274, 275, 276, 277, 278, 279, 280, 281, 282, 283, 284, 285, 286, 287, 288, 289, 290, 291, 292, 293, 294, 295, 296, 297, 298, 299, 300, 301, 302, 303, 304, 305, 306, 307, 308, 309, 310, 311, 312, 313, 314, 315, 316, 317, 318, 319, 320, 321, 322, 323, 324, 325, 326, 327, 328, 329, 330, 331, 332, 333, 334, 335, 336, 337, 338, 339, 340, 341, 342, 343, 344, 345, 346, 347, 348, 349, 350, 351, 352, 353, 354, 355, 356, 357, 358, 359, 360, 361, 362, 363, 364, 365, 366, 367, 368, 369, 370, 371, 372, 373, 374, 375, 376, 377, 378, 379, 380, 381, 382, 383, 384, 385, 386, 387, 388, 389, 390, 391, 392, 393, 394, 395, 396, 397, 398, 399, 400, 401, 402, 403, 404, 405, 406, 407, 408, 409, 410, 411, 412, 413, 414, 415, 416, 417, 418, 419, 420, 421, 422, 423, 424, 425, 426, 427, 428, 429, 430, 431, 432, 433, 434, 435, 436, 437, 438, 439, 440, 441, 442, 443, 444, 445, 446, 447, 448, 449, 450, 451, 452, 453, 454, 455, 456, 457, 458, 459, 460, 461, 462, 463, 464, 465, 466, 467, 468, 469, 470, 471, 472, 473, 474, 475, 476, 477, 478, 479, 480, 481, 482, 483, 484, 485, 486, 487, 488, 489, 490, 491, 492, 493, 494, 495, 496, 497, 498, 499, 500, 501, 502, 503, 504, 505, 506, 507, 508, 509, 510, 511, 512, 513, 514, 515, 516, 517, 518, 519, 520, 521, 522, 523, 524, 525, 526, 527, 528, 529, 530, 531, 532, 533, 534, 535, 536, 537, 538, 539, 540, 541, 542, 543, 544, 545, 546, 547, 548, 549, 550, 551, 552, 553, 554, 555, 556, 557, 558, 559, 560, 561, 562, 563, 564, 565, 566, 567, 568, 569, 570, 571, 572, 573, 574, 575, 576, 577, 578, 579, 580, 581, 582, 583, 584, 585, 586, 587, 588, 589, 590, 591, 592, 593, 594, 595, 596, 597, 598, 599, 600, 601, 602, 603, 604, 605, 606, 607, 608, 609, 610, 611, 612, 613, 614, 615, 616, 617, 618, 619, 620, 621, 622, 623, 624, 625, 626, 627, 628, 629, 630, 631, 632, 633, 634, 635, 636, 637, 638, 639, 640, 641, 642, 643, 644, 645, 646, 647, 648, 649, 650, 651, 652, 653, 654, 655, 656, 657, 658, 659, 660, 661, 662, 663, 664, 665, 666, 667, 668, 669, 670, 671, 672, 673, 674, 675, 676, 677, 678, 679, 680, 681, 682, 683, 684, 685, 686, 687, 688, 689, 690, 691, 692, 693, 694, 695, 696, 697, 698, 699, 700, 701, 702, 703, 704, 705, 706, 707, 708, 709, 710, 711, 712, 713, 714, 715, 716, 717, 718, 719, 720, 721, 722, 723, 724, 725, 726, 727, 728, 729, 730, 731, 732, 733, 734, 735, 736, 737, 738, 739, 740, 741, 742, 743, 744, 745, 746, 747, 748, 749, 750, 751, 752, 753, 754, 755, 756, 757, 758, 759, 760, 761, 762, 763, 764, 765, 766, 767, 768, 769, 770, 771, 772, 773, 774, 775, 776, 777, 778, 779, 780, 781, 782, 783, 784, 785, 786, 787, 788, 789, 790, 791, 792, 793, 794, 795, 796, 797, 798, 799, 800, 801, 802, 803, 804, 805, 806, 807, 808, 809, 810, 811, 812, 813, 814, 815, 816, 817, 818, 819, 820, 821, 822, 823, 824, 825, 826, 827, 828, 829, 830, 831, 832, 833, 834, 835, 836, 837, 838, 839, 840, 841, 842, 843, 844, 845, 846, 847, 848, 849, 850, 851, 852, 853, 854, 855, 856, 857, 858, 859, 860, 861, 862, 863, 864, 865, 866, 867, 868, 869, 870, 871, 872, 873, 874, 875, 876, 877, 878, 879, 880, 881, 882, 883, 884, 885, 886, 887, 888, 889, 890, 891, 892, 893, 894, 895, 896, 897, 898, 899, 900, 901, 902, 903, 904, 905, 906, 907, 908, 909, 910, 911, 912, 913, 914, 915, 916, 917, 918, 919, 920, 921, 922, 923, 924, 925, 926, 927, 928, 929, 930, 931, 932, 933, 934, 935, 936, 937, 938, 939, 940, 941, 942, 943, 944, 945, 946, 947, 948, 949, 950, 951, 952, 953, 954, 955, 956, 957, 958, 959, 960, 961, 962, 963, 964, 965, 966, 967, 968, 969, 970, 971, 972, 973, 974, 975, 976, 977, 978, 979, 980, 981, 982, 983, 984, 985, 986, 987, 988, 989, 990, 991, 992, 993, 994, 995, 996, 997, 998, 999, 1000]\n"
     ]
    }
   ],
   "source": [
    "\n",
    "ls = [] #definimos una lista vacia\n",
    "for i in range(0 ,1001): #creamos los elementos de la lista \n",
    "    ls.append(i)\n",
    "print(ls)"
   ]
  },
  {
   "cell_type": "code",
   "execution_count": 335,
   "id": "091a032a",
   "metadata": {},
   "outputs": [
    {
     "name": "stdout",
     "output_type": "stream",
     "text": [
      "[980, 982, 984, 986, 988, 990, 992, 994, 996, 998]\n",
      "[1, 3, 5, 7, 9, 11, 13, 15, 17, 19]\n"
     ]
    }
   ],
   "source": [
    "ls1 = [] #lista vacia\n",
    "for i in ls:\n",
    "    if i % 2 == 0: #condicionamos a los elementos a que sean pares\n",
    "        ls1.append(i) #los pegamos a la lista vacia\n",
    "print(ls1[-11:-1])\n",
    "\n",
    "ls2 = [i for i in ls if i%2 != 0] #lista compresiva\n",
    "print(ls2[0:10])"
   ]
  },
  {
   "cell_type": "markdown",
   "id": "00462693",
   "metadata": {},
   "source": [
    "### Ejercicio 6 (2 puntos): Aproximación de $\\pi$\n",
    "Una de las formas más sencillas de aproximar $\\pi$ es mediante la siguiente serie infinita de Leibniz:\n",
    "$$\\frac{\\pi}{4} = \\sum_{n=0}^{\\infty}\\frac{(-1)^{n}}{(2n+1)} = \\frac{1}{1} - \\frac{1}{3} + \\frac{1}{5}-\\frac{1}{7}+\\frac{1}{9}-...$$\n",
    "\n",
    "crea una función para aproximar $\\pi$ utilizando la serie de Leibniz. Usa n = 100000 e imprime el valor de tu aproximación tanto el valor de $\\frac{\\pi}{4}$ como $\\pi$.\n",
    "\n",
    "El valor de $\\pi$ se obtiene al despejar:\n",
    "$$\\pi = 4 * \\left(\\sum_{n=0}^{\\infty}\\frac{(-1)^{n}}{(2n+1)} \\right)$$\n",
    "\n",
    "La siguiente celda de codigo ofrece el valor de $\\frac{\\pi}{4}$"
   ]
  },
  {
   "cell_type": "code",
   "execution_count": 1,
   "id": "a4a31d07",
   "metadata": {},
   "outputs": [
    {
     "name": "stdout",
     "output_type": "stream",
     "text": [
      "El valor de pi/4 es aproximadamente 0.7853981633974483\n"
     ]
    }
   ],
   "source": [
    "import numpy as np\n",
    "#El valor de pi/4\n",
    "print(\"El valor de pi/4 es aproximadamente {}\".format(np.pi/4))"
   ]
  },
  {
   "cell_type": "code",
   "execution_count": 102,
   "id": "4dc4adfa",
   "metadata": {},
   "outputs": [],
   "source": [
    "def appi(n):\n",
    "    s = 0\n",
    "    m = -1\n",
    "    while m<n: #bucle que ira sumando mientras el contador m sea menor a n\n",
    "        m+= 1\n",
    "        s+= 4*((-1)**m)/(2*m+1)\n",
    "    print(s)\n",
    "    print(s/4)"
   ]
  },
  {
   "cell_type": "code",
   "execution_count": 103,
   "id": "12b3b312",
   "metadata": {},
   "outputs": [
    {
     "name": "stdout",
     "output_type": "stream",
     "text": [
      "3.1416026534897203\n",
      "0.7854006633724301\n"
     ]
    }
   ],
   "source": [
    "appi(100000)"
   ]
  },
  {
   "cell_type": "markdown",
   "id": "d0c28e6e",
   "metadata": {},
   "source": [
    "### Ejercicio 7 (1 puntos): Identificador de vocales\n",
    "\n",
    "Escribe una función que reciba una cadena, por ejemplo 'el pErro de la tiA chOnita' y regrese la cantidad de vocales que contiene. La función debe contener varios casos de prueba, if, elif y else. Con la cadena de ejemplo, imprime en pantalla el resultado de la función (10).\n",
    "\n",
    "Para conocer si un caracter es una vocal, primero debes descomponer la cadena en caracteres individuales. Para ello observa el siguiente código:"
   ]
  },
  {
   "cell_type": "code",
   "execution_count": 35,
   "id": "55a65e0f",
   "metadata": {},
   "outputs": [
    {
     "name": "stdout",
     "output_type": "stream",
     "text": [
      "['e', 'l', ' ', 'p', 'E', 'r', 'r', 'o', ' ', 'd', 'e', ' ', 'l', 'a', ' ', 't', 'i', 'A', ' ', 'c', 'h', 'O', 'n', 'i', 't', 'a']\n"
     ]
    }
   ],
   "source": [
    "# Divide una cadena en caracteres individuales\n",
    "cadena_prueba = 'el pErro de la tiA chOnita'\n",
    "caracteres_individuales = list(cadena_prueba)\n",
    "print(caracteres_individuales)"
   ]
  },
  {
   "cell_type": "code",
   "execution_count": 250,
   "id": "645fbe5b",
   "metadata": {},
   "outputs": [],
   "source": [
    "def v(x):\n",
    "    v1 = x.lower() #convertimos mayusculas a minusculas\n",
    "    v2 = v1.split(\" \") #eliminamos los espacios del string\n",
    "    v3 = \"\".join(v2) #el paso anterior convirtio la cadena a una lista, dicha lista no nos sirve, regresamos a cadena sin espacios\n",
    "    v4 = list(v3) #convertimos la cadena a lista\n",
    "    vocales = [\"a\", \"e\", \"i\", \"o\", \"u\"]\n",
    "    vo = []\n",
    "    for i in v4:  \n",
    "        for j in range(len(vocales)):\n",
    "            if i == vocales[j]: #comparamos elementos entre v4 y vo\n",
    "                vo.append(i)\n",
    "    if len(vo) != 0: #Si hay vocales entonces vo tiene cierta cantidad de elementos\n",
    "        print(f\"hay {len(vo)} vocales\")\n",
    "    elif len(vo) == 0: #Si vo no tiene elementos, entonces no hay vocales\n",
    "        print(\"No hay vocales\") "
   ]
  },
  {
   "cell_type": "code",
   "execution_count": 306,
   "id": "7d5d50e4",
   "metadata": {},
   "outputs": [
    {
     "name": "stdout",
     "output_type": "stream",
     "text": [
      "hay 10 vocales\n"
     ]
    }
   ],
   "source": [
    "#s = \"el pErro de la tiA chOnita\"\n",
    "#s1 = s.lower()\n",
    "#s2 = s1.split(\" \")\n",
    "#s3 = \"\".join(s3)\n",
    "#s4 = list(s3)\n",
    "#print(s1)\n",
    "#print(s2)\n",
    "#print(s3)\n",
    "#print(s4)\n",
    "\n",
    "v(\"el pErro de la tiA chOnita\")"
   ]
  },
  {
   "cell_type": "markdown",
   "id": "fb89fa24",
   "metadata": {},
   "source": [
    "### Ejercicio 8 (2 puntos):\n",
    "\n",
    "Escribe una clase \"calculadora\" que regrese el resultado de las operaciones de suma, resta, multiplicacion, division, modulo y potencia. La clase debe contener un método para cada operación.\n",
    "\n",
    "Los métodos que pudiesen presentar errores como division entre cero, deben ser manejados de tal manera que el programa no imprima ningun error (vimos una clausula para hacer esto).\n",
    "\n",
    "Adicional a esto, los métodos modulo y potencia deben ser generales, es decir, deben funcionar para cualquier número entero positivo (es un parámetro extra del método). Por ejemplo, la potencia de 2 elevado a 3 es 8, la potencia de 5 elevado a 3 es 125, etc.\n",
    "\n",
    "Crea una instancia de la clase calculadora y prueba cada uno de los métodos, con valores de tu elección. Para los métodos que pudiesen presentar errores da dos ejemplos, uno totalmente funcional (3/5 por ejemplo) y otro que sea conflictivo pero que no regresa ningún error (4/0 por ejemplo)."
   ]
  },
  {
   "cell_type": "code",
   "execution_count": 284,
   "id": "5677741d",
   "metadata": {},
   "outputs": [],
   "source": [
    "class calculadora:\n",
    "    def s(self, x): #definimos la función suma que recibé una lista con los elementos a sumar\n",
    "        s1 = 0\n",
    "        for i in x:\n",
    "            s1+=i\n",
    "        print(s1)\n",
    "    \n",
    "    def r(self, x): #definimos la función resta que recibé una lista con los elementos a restar\n",
    "        r1 = 0\n",
    "        for i in x:\n",
    "            r1-=i\n",
    "        print(r1)\n",
    "    \n",
    "    def m(self, x): #definimos la función multiplicación que recibé una lista con los elementos a multiplicar\n",
    "        m1 = 1\n",
    "        for i in x:\n",
    "            m1*=i\n",
    "        print(m1)\n",
    "        \n",
    "    def d(self, x, y): #definimos una función que recibo el numerador (x) y el denominador (y) el cual tiene la condición de 0 distinto de 0\n",
    "        if y == 0:\n",
    "            print(\"No hay división entre 0, da otro denominador\")\n",
    "        else:\n",
    "            print(x/y)\n",
    "        \n",
    "    def v(self, x): #definimos la función modulo o valor absoluto, el cual recibe un numero positivo o negativo y nos arroja su valor absoluto\n",
    "        if x<0:\n",
    "            print(-x)\n",
    "        elif x>0:\n",
    "            print(x)\n",
    "        else:\n",
    "            print(x) #en 0 nos arroja 0\n",
    "            \n",
    "\n",
    "    def p(self, x, y): #función potencia que recibe un numero y la potencia a la que se va a elevar\n",
    "        print(x**y)\n",
    "            "
   ]
  },
  {
   "cell_type": "code",
   "execution_count": 304,
   "id": "f8ac8655",
   "metadata": {},
   "outputs": [
    {
     "name": "stdout",
     "output_type": "stream",
     "text": [
      "15\n",
      "-15\n",
      "24\n",
      "No hay división entre 0, da otro denominador\n",
      "0.5\n",
      "245\n",
      "8\n"
     ]
    }
   ],
   "source": [
    "m = calculadora()\n",
    "m.s([1,2,3,4,5])\n",
    "m.r([1,2,3,4,5])\n",
    "m.m([1,2,3,4])\n",
    "m.d(2,0)\n",
    "m.d(2,4)\n",
    "m.v(-245)\n",
    "m.p(2,3)"
   ]
  },
  {
   "cell_type": "markdown",
   "id": "c6e4da53",
   "metadata": {},
   "source": [
    "### Ejercicio de puntos extras opcional (1 punto):\n",
    "\n",
    "Supóngamos que tenemos una lista de números enteros y queremos encontrar el número más grande. Por ejemplo, si la lista es `[1, 2, 3, 4, 5]` el número más grande es 5. Crea una función que encuentre el número más grande en una lista de números. La función debe regresar el número más grande y el índice en el que se encuentra. Prueba la función con una lista de números de tu elección."
   ]
  },
  {
   "cell_type": "code",
   "execution_count": 383,
   "id": "37655580",
   "metadata": {},
   "outputs": [],
   "source": [
    "def g(x):\n",
    "    x1 = x.copy() #copiamos la lista x\n",
    "    x1.sort() #a la copia lo ordenamos de menor a mayor, de manera que el mayor quede en la posición -1\n",
    "    for i in range(len(x)):\n",
    "        if x[i] == x1[-1]: #de la lista original comparamos con la lista ordenada para ubicar la posición\n",
    "            indice = i\n",
    "    print(\"el numero mayor es \", x1[-1], \"que se encuentra en la posición \", indice)"
   ]
  },
  {
   "cell_type": "code",
   "execution_count": 385,
   "id": "243122fc",
   "metadata": {},
   "outputs": [
    {
     "name": "stdout",
     "output_type": "stream",
     "text": [
      "el numero mayor es  600000 que se encuentra en la posición  10\n"
     ]
    }
   ],
   "source": [
    "g([1000,2,3,4444,5000,2,3,5,55,5,600000])"
   ]
  },
  {
   "cell_type": "markdown",
   "id": "525883b3",
   "metadata": {},
   "source": [
    "### Ejercicio de puntos extras opcional (3 puntos):\n",
    "\n",
    "Supóngamos que tenemos un dado convencional de 6 caras. Crea una función que simule el lanzamiento de un dado. La función debe regresar un número aleatorio entre 1 y 6.\n",
    "\n",
    "Sabemos que la probabilidad de que salga un número es de $\\frac{1}{6}$, es decir, la probabilidad de que salga un 1 es de $\\frac{1}{6}$, la probabilidad de que salga un 2 es de $\\frac{1}{6}$, etc.\n",
    "\n",
    "* Prueba la función con 6 lanzamientos, en una celda markdown explica porqué el resultado es dificilmente [1, 2, 3, 4, 5, 6].\n",
    "\n",
    "* Prueba la función con 1000 lanzamientos, crea una grafica de barras de los resultados (investiga como puedes graficar los resultados en una grafica de barras) y explica a que distribucion se parece y porqué es así.\n",
    "\n",
    "Hint: Para crear los números aleatorios, puedes usar la función `random.randint()`. O bien, usar el modulo numpy para crearlos. Para graficar los resultados, puedes usar la libreria matplotlib, seaborn, plotly o cualquiera que se te haga más fácil."
   ]
  },
  {
   "cell_type": "code",
   "execution_count": 519,
   "id": "3855f196",
   "metadata": {},
   "outputs": [
    {
     "name": "stdout",
     "output_type": "stream",
     "text": [
      "[6, 2, 4, 6, 1, 2]\n"
     ]
    }
   ],
   "source": [
    "import random\n",
    "ls12 = []\n",
    "for i in range(6):\n",
    "    x = random.randint(1,6)\n",
    "    ls12.append(x)\n",
    "print(ls12)\n",
    "    "
   ]
  },
  {
   "cell_type": "code",
   "execution_count": 528,
   "id": "e1c7a4c7",
   "metadata": {},
   "outputs": [
    {
     "data": {
      "image/png": "[encoded data removed]",
      "text/plain": [
       "<Figure size 1440x1080 with 1 Axes>"
      ]
     },
     "metadata": {
      "needs_background": "light"
     },
     "output_type": "display_data"
    }
   ],
   "source": [
    "import matplotlib.pyplot as plt\n",
    "ls13 = []\n",
    "ls14 = []\n",
    "for i in range(1,1001):\n",
    "    x = random.randint(1,6)\n",
    "    ls14.append(i)\n",
    "    ls13.append(x)\n",
    "#print(ls14)\n",
    "#print(ls13)\n",
    "plt.figure(figsize=(20, 15))\n",
    "plt.bar(ls14, ls13)\n",
    "plt.xlabel('Eje X')\n",
    "plt.ylabel('Eje Y')\n",
    "plt.title('Gráfico de dos listas')\n",
    "\n",
    "plt.show()\n"
   ]
  }
 ],
 "metadata": {
  "kernelspec": {
   "display_name": "Python 3",
   "language": "python",
   "name": "python3"
  },
  "language_info": {
   "codemirror_mode": {
    "name": "ipython",
    "version": 3
   },
   "file_extension": ".py",
   "mimetype": "text/x-python",
   "name": "python",
   "nbconvert_exporter": "python",
   "pygments_lexer": "ipython3",
   "version": "3.8.8"
  },
  "vscode": {
   "interpreter": {
    "hash": "ad2bdc8ecc057115af97d19610ffacc2b4e99fae6737bb82f5d7fb13d2f2c186"
   }
  }
 },
 "nbformat": 4,
 "nbformat_minor": 5
}
